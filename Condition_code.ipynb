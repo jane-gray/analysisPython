{
 "cells": [
  {
   "cell_type": "code",
   "execution_count": 2,
   "id": "4b86b23c-2837-4e1a-bfe5-086106c44956",
   "metadata": {},
   "outputs": [],
   "source": [
    "########## condition #############\n",
    "\n",
    "### Condition operators\n",
    "# equal: ==\n",
    "# not equal: !=\n",
    "# greater than: >\n",
    "# less than: <\n",
    "# greater than or equal to: >=\n",
    "# less than or equal to: <=\n",
    "\n",
    "### String data comparison\n",
    "# B > A             <- True, because string data is compared by alphabet order\n",
    "# \"abcd\" > \"ab\"     <- True, because string data is compared by alphabet length\n"
   ]
  },
  {
   "cell_type": "code",
   "execution_count": 3,
   "id": "ce58f46d-b55b-4971-b1e7-f61981769454",
   "metadata": {},
   "outputs": [
    {
     "name": "stdout",
     "output_type": "stream",
     "text": [
      "Adult\n",
      "Check accessibility\n"
     ]
    }
   ],
   "source": [
    "########### Condition ##########\n",
    "age = 23                          # It is a value\n",
    "\n",
    "if age > 18:                      # It is a condition\n",
    "    print(\"Adult\")                # run this code if the condition is true\n",
    "print(\"Check accessibility\")      # run this code regardless if the condition is true or false "
   ]
  },
  {
   "cell_type": "code",
   "execution_count": 4,
   "id": "80dbe2dc-49c2-4404-ac29-5c62386f19c2",
   "metadata": {},
   "outputs": [
    {
     "name": "stdout",
     "output_type": "stream",
     "text": [
      "Minor\n",
      "Check accessibility\n"
     ]
    }
   ],
   "source": [
    "# If else condition \n",
    "age = 15                          # It is a value\n",
    "\n",
    "if age > 18:                      # It is a condition\n",
    "    print(\"Adult\" )               # run this code if the condition is true\n",
    "else:\n",
    "    print(\"Minor\" )               # run this code if the condition is false \n",
    "    \n",
    "print(\"Check accessibility\")      # run this code regardless if the condition is true or false  "
   ]
  },
  {
   "cell_type": "code",
   "execution_count": 5,
   "id": "db6ff1e7-f356-4c1c-9425-35d6032503d0",
   "metadata": {},
   "outputs": [
    {
     "name": "stdout",
     "output_type": "stream",
     "text": [
      "Check birthday\n",
      "Check accessibility\n"
     ]
    }
   ],
   "source": [
    "# Elif condition\n",
    "age = 18                          # It is a value\n",
    " \n",
    "if age > 18:                      # It is a fist condition\n",
    "    print(\"Adult\")                # run this code if the fist condition is true\n",
    "elif age == 18:                   # It is a second condition\n",
    "    print(\"Check birthday\")       # run this code if the second condition is true \n",
    "else:\n",
    "    print(\"Minor\" )               # run this code if the first and second condition is false \n",
    "    \n",
    "print(\"Check accessibility\")      # run this code regardless if the condition is true or false "
   ]
  },
  {
   "cell_type": "code",
   "execution_count": 6,
   "id": "8f67047d-83ef-49d6-ae7f-65c00997e0b0",
   "metadata": {},
   "outputs": [
    {
     "name": "stdout",
     "output_type": "stream",
     "text": [
      "economically active population\n"
     ]
    }
   ],
   "source": [
    "# If statement with 'and'\n",
    "age = 30\n",
    "if (age >= 15) and (age <= 65):\n",
    "    print (\"economically active population\")\n",
    "else:\n",
    "    print (\"non active population\") "
   ]
  },
  {
   "cell_type": "code",
   "execution_count": 7,
   "id": "7c39ecd0-a9ae-42e2-b155-6b68ab0ce453",
   "metadata": {},
   "outputs": [
    {
     "name": "stdout",
     "output_type": "stream",
     "text": [
      "economically active population\n"
     ]
    }
   ],
   "source": [
    "# If statement with 'or'\n",
    "age = 30\n",
    "if (age < 15) or (age > 65):\n",
    "    print(\"non active population\")\n",
    "else:\n",
    "    print(\"economically active population\")"
   ]
  },
  {
   "cell_type": "code",
   "execution_count": 8,
   "id": "75afcfbe-a60c-403e-ab5c-fa67ae22b514",
   "metadata": {},
   "outputs": [
    {
     "name": "stdout",
     "output_type": "stream",
     "text": [
      "Adult\n"
     ]
    }
   ],
   "source": [
    "# If not\n",
    "age = 30\n",
    "if not age > 15:\n",
    "    print(\"Minor\")\n",
    "else:\n",
    "    print(\"Adult\")"
   ]
  },
  {
   "cell_type": "code",
   "execution_count": 9,
   "id": "d5d48ee5-a903-4ae7-b048-ccab7733bf2b",
   "metadata": {},
   "outputs": [
    {
     "data": {
      "text/plain": [
       "range(10, 15)"
      ]
     },
     "execution_count": 9,
     "metadata": {},
     "output_type": "execute_result"
    }
   ],
   "source": [
    "########## For loop ##########\n",
    "\n",
    "# range\n",
    "range(3)      # making list data containing 0 to 2\n",
    "range(10,15)  # making list data containing 10 to 14"
   ]
  },
  {
   "cell_type": "code",
   "execution_count": 10,
   "id": "cefcefc4-94ee-40d5-bcef-7597c15c795a",
   "metadata": {},
   "outputs": [
    {
     "name": "stdout",
     "output_type": "stream",
     "text": [
      "10\n",
      "11\n",
      "12\n",
      "13\n",
      "14\n"
     ]
    }
   ],
   "source": [
    "# basic For loop 1\n",
    "\n",
    "for i in range(10,15):\n",
    "    print(i)"
   ]
  },
  {
   "cell_type": "code",
   "execution_count": 11,
   "id": "352dc126-b339-41b1-ac8d-7c7c710a10cb",
   "metadata": {},
   "outputs": [
    {
     "name": "stdout",
     "output_type": "stream",
     "text": [
      "111\n",
      "222\n",
      "333\n"
     ]
    }
   ],
   "source": [
    "# Basic For loop 2\n",
    "\n",
    "dates = [111,222,333]      # 'datas' contain 111, 222, 333 \n",
    "N = len(dates)             # N is 3, which is the length of datas  \n",
    "\n",
    "for i in range(N):         # i is increased by 1 for N times, which is i = 0, i = 1, i = 2\n",
    "    print(dates[i])        # print the result = datas[0], datas[1], datas[2]"
   ]
  },
  {
   "cell_type": "code",
   "execution_count": 12,
   "id": "efeb3a52-8cc7-4807-a254-1ef6946b1ced",
   "metadata": {},
   "outputs": [
    {
     "name": "stdout",
     "output_type": "stream",
     "text": [
      "Departure 0 is France\n",
      "Arrival is Korea\n",
      "Departure 1 is Italy\n",
      "Arrival is Korea\n",
      "Departure 2 is China\n",
      "Arrival is Korea\n",
      "Departure 3 is Laos\n",
      "Arrival is Korea\n",
      "Departure 4 is USA\n",
      "Arrival is Korea\n"
     ]
    }
   ],
   "source": [
    "# Basic For loop 3\n",
    "\n",
    "country = ['France', 'Italy', 'China', 'Laos', 'USA']\n",
    "\n",
    "for i in range(0, 5):\n",
    "    print(\"Departure\", i, 'is',  country[i])   # first loop condition\n",
    "    country[i] = 'Korea'\n",
    "    print(\"Arrival is\",  country[i])        # second loop condition"
   ]
  },
  {
   "cell_type": "code",
   "execution_count": 13,
   "id": "f37d6af2-5a83-4be7-bea4-e66c17c10038",
   "metadata": {},
   "outputs": [
    {
     "name": "stdout",
     "output_type": "stream",
     "text": [
      "0 France\n",
      "1 Italy\n",
      "2 China\n",
      "3 Laos\n",
      "4 USA\n"
     ]
    }
   ],
   "source": [
    "# For loop iterating on both index and element value (using enumerate)\n",
    "# in this case, you don't need to know the length of data\n",
    "\n",
    "country = ['France', 'Italy', 'China', 'Laos', 'USA']\n",
    "\n",
    "for i, country in enumerate(country):  \n",
    "    print(i, country)"
   ]
  },
  {
   "cell_type": "code",
   "execution_count": 14,
   "id": "c7a846c4-be20-43f4-84e5-6a14c4e5fe45",
   "metadata": {},
   "outputs": [
    {
     "name": "stdout",
     "output_type": "stream",
     "text": [
      "0 France\n",
      "1 Italy\n",
      "2 China\n",
      "3 Laos\n",
      "4 USA\n"
     ]
    }
   ],
   "source": [
    "# For loop iterating on both index and element value (using range)\n",
    "# in this case, you have to know the length of data to designate the range\n",
    "\n",
    "country = ['France', 'Italy', 'China', 'Laos', 'USA']\n",
    "\n",
    "for i in range (0,5):\n",
    "    print(i, country[i])"
   ]
  },
  {
   "cell_type": "code",
   "execution_count": 15,
   "id": "6cffea3d-64bd-4661-9d5c-b67e1c859d7a",
   "metadata": {},
   "outputs": [
    {
     "name": "stdout",
     "output_type": "stream",
     "text": [
      "France\n",
      "Italy\n",
      "China\n",
      "It took  3 repetitions to get out of loop.\n"
     ]
    }
   ],
   "source": [
    "########### While loop ###########\n",
    "# while loop is used when you don't know the stop point or want to make it stop until a certain condition is met\n",
    "\n",
    "# Basic While loop\n",
    "\n",
    "country = ['France', 'Italy', 'China', 'Laos', 'USA']\n",
    "\n",
    "i = 0\n",
    "departure = country[0]\n",
    "\n",
    "while(departure != 'Laos'):                                     # loop while departure is not Laos \n",
    "    print(departure)                                            # print departure if the condition is met\n",
    "    i = i + 1                                                   # add 1 to i if the condition is met\n",
    "    departure = country[i]                                      # put country[i] in departure if the conditon is met\n",
    "    \n",
    "print(\"It took \", i ,\"repetitions to get out of loop.\")"
   ]
  },
  {
   "cell_type": "code",
   "execution_count": 16,
   "id": "9c25b4e6-c778-4c82-a5d7-11edc57cf176",
   "metadata": {},
   "outputs": [
    {
     "name": "stdout",
     "output_type": "stream",
     "text": [
      "['orange', 'orange']\n"
     ]
    }
   ],
   "source": [
    "# while loop to make new data\n",
    "\n",
    "squares = ['orange', 'orange', 'purple', 'blue ', 'orange']\n",
    "new_squares = []\n",
    "i = 0\n",
    "while(i < len(squares) and squares[i] == 'orange'):\n",
    "    new_squares.append(squares[i])\n",
    "    i = i + 1\n",
    "print (new_squares)"
   ]
  },
  {
   "cell_type": "code",
   "execution_count": 17,
   "id": "1f5f4753-a2df-4fdd-96ef-903be4d9ccd1",
   "metadata": {},
   "outputs": [
    {
     "name": "stdout",
     "output_type": "stream",
     "text": [
      "10 plus one is 11\n"
     ]
    },
    {
     "data": {
      "text/plain": [
       "11"
      ]
     },
     "execution_count": 17,
     "metadata": {},
     "output_type": "execute_result"
    }
   ],
   "source": [
    "############## function ##################\n",
    "\n",
    "# Defin function for Adding\n",
    "\n",
    "def add(A):\n",
    "    \"\"\"\n",
    "    add 1 to A               # This is the explanation of the function\n",
    "    \"\"\"\n",
    "    B = A + 1\n",
    "    print(A, \"plus one is\", B)\n",
    "    return(B)\n",
    "\n",
    "add(10)"
   ]
  },
  {
   "cell_type": "code",
   "execution_count": 18,
   "id": "aff1aec4-04a0-4673-81b5-7f24c3969312",
   "metadata": {},
   "outputs": [
    {
     "name": "stdout",
     "output_type": "stream",
     "text": [
      "Help on function add in module __main__:\n",
      "\n",
      "add(A)\n",
      "    add 1 to A               # This is the explanation of the function\n",
      "\n"
     ]
    }
   ],
   "source": [
    "# Explain the exisitng function\n",
    "help(add)"
   ]
  },
  {
   "cell_type": "code",
   "execution_count": 19,
   "id": "36137c84-88ef-44d0-8229-bae568568f52",
   "metadata": {},
   "outputs": [
    {
     "name": "stdout",
     "output_type": "stream",
     "text": [
      "fisrt * second\n"
     ]
    },
    {
     "data": {
      "text/plain": [
       "24"
      ]
     },
     "execution_count": 19,
     "metadata": {},
     "output_type": "execute_result"
    }
   ],
   "source": [
    "# Define function for multiplying\n",
    "\n",
    "def Mult(a, b):\n",
    "    c = a * b\n",
    "    print(\"fisrt * second\")\n",
    "    return(c)\n",
    "\n",
    "    \n",
    "Mult(12,2)"
   ]
  },
  {
   "cell_type": "code",
   "execution_count": 20,
   "id": "1626177d-ec79-414f-8075-bd7a1c401b38",
   "metadata": {},
   "outputs": [
    {
     "name": "stdout",
     "output_type": "stream",
     "text": [
      "5 twice multiply and plus one is  26\n"
     ]
    },
    {
     "data": {
      "text/plain": [
       "26"
      ]
     },
     "execution_count": 20,
     "metadata": {},
     "output_type": "execute_result"
    }
   ],
   "source": [
    "# Function Definition (local variable vs global variable)\n",
    "\n",
    "# A variable that is declared inside a function is called a local variable. \n",
    "# The parameter only exists within the function.\n",
    "\n",
    "# A variable that is declared outside a function definition is a global variable, \n",
    "# and its value is accessible and modifiable throughout the program.\n",
    "\n",
    "\n",
    "def square(a):\n",
    "    \n",
    "    # Local variable b\n",
    "    b = 1\n",
    "    c = a * a + b\n",
    "    print(a, \"twice multiply and plus one is \", c) \n",
    "    return(c)\n",
    "\n",
    "square(5)"
   ]
  },
  {
   "cell_type": "code",
   "execution_count": null,
   "id": "7222fe16-4a78-48c9-8a75-86ba80a0076e",
   "metadata": {},
   "outputs": [],
   "source": [
    "# global value\n",
    "\n",
    "name = \"apple\"\n",
    "\n",
    "def printer(name):\n",
    "    global fruit \n",
    "    fruit= \"Watermelon\"\n",
    "    print(name,\"is a fruit\")\n",
    "\n",
    "printer(name)\n",
    "printer(fruit)                  # we can call fruit outside of def printer, since fruit is a global value"
   ]
  }
 ],
 "metadata": {
  "kernelspec": {
   "display_name": "Python 3 (ipykernel)",
   "language": "python",
   "name": "python3"
  },
  "language_info": {
   "codemirror_mode": {
    "name": "ipython",
    "version": 3
   },
   "file_extension": ".py",
   "mimetype": "text/x-python",
   "name": "python",
   "nbconvert_exporter": "python",
   "pygments_lexer": "ipython3",
   "version": "3.9.13"
  }
 },
 "nbformat": 4,
 "nbformat_minor": 5
}
